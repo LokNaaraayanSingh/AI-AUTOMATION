{
 "cells": [
  {
   "cell_type": "code",
   "execution_count": 1,
   "metadata": {},
   "outputs": [
    {
     "name": "stdout",
     "output_type": "stream",
     "text": [
      "\n",
      "Similarity percentages with database texts:\n",
      "Text 1: 37.80% - This is a sample document to check plagiarism.\n",
      "Text 2: 0.00% - Another example text to compare against.\n",
      "Text 3: 35.36% - This text is completely different from the input.\n",
      "Text 4: 33.33% - This document contains some similar content to the input.\n"
     ]
    }
   ],
   "source": [
    "import re\n",
    "from sklearn.feature_extraction.text import CountVectorizer\n",
    "from sklearn.metrics.pairwise import cosine_similarity\n",
    "\n",
    "def preprocess(text):\n",
    "    return re.sub(r'\\W+', ' ', text).lower()\n",
    "\n",
    "def check_plagiarism(input_text, database):\n",
    "    texts = [input_text] + database\n",
    "    vectors = CountVectorizer().fit_transform([preprocess(text) for text in texts]).toarray()\n",
    "    similarities = cosine_similarity(vectors)[0][1:]\n",
    "    return similarities\n",
    "\n",
    "# Example database texts\n",
    "database_texts = [\n",
    "    \"This is a sample document to check plagiarism.\",\n",
    "    \"Another example text to compare against.\",\n",
    "    \"This text is completely different from the input.\",\n",
    "    \"This document contains some similar content to the input.\"\n",
    "]\n",
    "\n",
    "# Prompt user for input text\n",
    "input_text = input(\"Enter the text to check for plagiarism: \")\n",
    "\n",
    "# Check plagiarism\n",
    "similarities = check_plagiarism(input_text, database_texts)\n",
    "\n",
    "# Display results\n",
    "print(\"\\nSimilarity percentages with database texts:\")\n",
    "for i, similarity in enumerate(similarities):\n",
    "    print(f\"Text {i+1}: {similarity*100:.2f}% - {database_texts[i]}\")\n"
   ]
  },
  {
   "cell_type": "code",
   "execution_count": null,
   "metadata": {},
   "outputs": [],
   "source": []
  }
 ],
 "metadata": {
  "kernelspec": {
   "display_name": "Python 3",
   "language": "python",
   "name": "python3"
  },
  "language_info": {
   "codemirror_mode": {
    "name": "ipython",
    "version": 3
   },
   "file_extension": ".py",
   "mimetype": "text/x-python",
   "name": "python",
   "nbconvert_exporter": "python",
   "pygments_lexer": "ipython3",
   "version": "3.10.2"
  }
 },
 "nbformat": 4,
 "nbformat_minor": 2
}
