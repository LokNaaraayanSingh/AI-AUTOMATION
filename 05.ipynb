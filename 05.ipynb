{
 "cells": [
  {
   "cell_type": "code",
   "execution_count": 11,
   "metadata": {},
   "outputs": [
    {
     "name": "stdout",
     "output_type": "stream",
     "text": [
      "Timetable:\n",
      "\n",
      "Monday:\n",
      "9am-10am: a - 1\n",
      "10am-11am: b - 2\n",
      "\n",
      "Tuesday:\n",
      "9am-10am: a - 1\n",
      "10am-11am: b - 2\n"
     ]
    }
   ],
   "source": [
    "class Teacher:\n",
    "    def __init__(self, name):\n",
    "        self.name = name\n",
    "\n",
    "class Subject:\n",
    "    def __init__(self, name):\n",
    "        self.name = name\n",
    "\n",
    "# Example input\n",
    "teacher_names = input(\"Enter teacher names (comma-separated): \").split(',')\n",
    "subject_names = input(\"Enter subject names (comma-separated): \").split(',')\n",
    "teachers = [Teacher(name) for name in teacher_names]\n",
    "subjects = [Subject(name) for name in subject_names]\n",
    "classroom_availability = {\n",
    "    \"Monday\": [\"9am-10am\", \"10am-11am\", \"11am-12pm\"],\n",
    "    \"Tuesday\": [\"9am-10am\", \"10am-11am\", \"11am-12pm\"],\n",
    "    # Add more days and slots as needed\n",
    "}\n",
    "\n",
    "# Generate and display timetable\n",
    "print(\"Timetable:\")\n",
    "for day, slots in classroom_availability.items():\n",
    "    print(f\"\\n{day}:\")\n",
    "    for slot, (teacher, subject) in zip(slots, zip(teachers, subjects)):\n",
    "        print(f\"{slot}: {teacher.name} - {subject.name}\")\n"
   ]
  },
  {
   "cell_type": "code",
   "execution_count": null,
   "metadata": {},
   "outputs": [],
   "source": []
  }
 ],
 "metadata": {
  "kernelspec": {
   "display_name": "Python 3",
   "language": "python",
   "name": "python3"
  },
  "language_info": {
   "codemirror_mode": {
    "name": "ipython",
    "version": 3
   },
   "file_extension": ".py",
   "mimetype": "text/x-python",
   "name": "python",
   "nbconvert_exporter": "python",
   "pygments_lexer": "ipython3",
   "version": "3.10.2"
  }
 },
 "nbformat": 4,
 "nbformat_minor": 2
}
