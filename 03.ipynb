{
 "cells": [
  {
   "cell_type": "code",
   "execution_count": 3,
   "metadata": {},
   "outputs": [
    {
     "name": "stdout",
     "output_type": "stream",
     "text": [
      "Top recommendations:\n",
      "Louvre Museum - Paris - museum - Rating: 4.7\n",
      "British Museum - London - museum - Rating: 4.6\n",
      "Central Park - New York - park - Rating: 4.5\n",
      "Bondi Beach - Sydney - beach - Rating: 4.4\n"
     ]
    }
   ],
   "source": [
    "import csv\n",
    "\n",
    "class TouristDestination:\n",
    "    def __init__(self, name, location, type, rating):\n",
    "        self.name = name\n",
    "        self.location = location\n",
    "        self.type = type\n",
    "        self.rating = float(rating)\n",
    "\n",
    "class TouristDestinations:\n",
    "    def __init__(self, file_path):\n",
    "        self.destinations = self.load_destinations(\"C:/Users/Lok Naaraayan Singh/Downloads/name,location,type,rating.csv\")\n",
    "\n",
    "    def load_destinations(self, file_path):\n",
    "        with open(file_path, mode='r') as file:\n",
    "            return [TouristDestination(**row) for row in csv.DictReader(file)]\n",
    "\n",
    "    def get_recommendations(self, interests):\n",
    "        return sorted(\n",
    "            (dest for dest in self.destinations if dest.type in interests),\n",
    "            key=lambda x: x.rating,\n",
    "            reverse=True\n",
    "        )[:5]\n",
    "\n",
    "# Example usage\n",
    "td = TouristDestinations('destinations.csv')\n",
    "recommendations = td.get_recommendations(['beach', 'museum', 'park'])\n",
    "\n",
    "print(\"Top recommendations:\")\n",
    "for dest in recommendations:\n",
    "    print(f\"{dest.name} - {dest.location} - {dest.type} - Rating: {dest.rating}\")\n"
   ]
  },
  {
   "cell_type": "code",
   "execution_count": null,
   "metadata": {},
   "outputs": [],
   "source": []
  }
 ],
 "metadata": {
  "kernelspec": {
   "display_name": "Python 3",
   "language": "python",
   "name": "python3"
  },
  "language_info": {
   "codemirror_mode": {
    "name": "ipython",
    "version": 3
   },
   "file_extension": ".py",
   "mimetype": "text/x-python",
   "name": "python",
   "nbconvert_exporter": "python",
   "pygments_lexer": "ipython3",
   "version": "3.10.2"
  }
 },
 "nbformat": 4,
 "nbformat_minor": 2
}
