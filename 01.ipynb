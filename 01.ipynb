{
 "cells": [
  {
   "cell_type": "code",
   "execution_count": 3,
   "metadata": {},
   "outputs": [
    {
     "name": "stdout",
     "output_type": "stream",
     "text": [
      "\n",
      "Student's Score: 50.00%\n",
      "Correct Answers: 1\n",
      "Incorrect Answers: 1\n",
      "Unanswered Questions: 0\n"
     ]
    }
   ],
   "source": [
    "def get_answers(prompt):\n",
    "    return [input(f\"{prompt} {i+1}: \") for i in range(int(input(\"Enter the number of questions: \")))]\n",
    "\n",
    "def check_answers(correct, student):\n",
    "    correct_count = sum(1 for i, ans in enumerate(student) if ans == correct[i])\n",
    "    unanswered_count = student.count('')\n",
    "    incorrect_count = len(correct) - correct_count - unanswered_count\n",
    "    score = (correct_count / len(correct)) * 100\n",
    "    return score, correct_count, incorrect_count, unanswered_count\n",
    "\n",
    "# Prompt for correct and student's answers\n",
    "correct_answers = get_answers(\"Correct Answer\")\n",
    "student_answers = get_answers(\"Student Answer\")\n",
    "\n",
    "# Check the answers and display the results\n",
    "score, correct_count, incorrect_count, unanswered_count = check_answers(correct_answers, student_answers)\n",
    "print(f\"\\nStudent's Score: {score:.2f}%\")\n",
    "print(f\"Correct Answers: {correct_count}\")\n",
    "print(f\"Incorrect Answers: {incorrect_count}\")\n",
    "print(f\"Unanswered Questions: {unanswered_count}\")\n"
   ]
  },
  {
   "cell_type": "code",
   "execution_count": null,
   "metadata": {},
   "outputs": [],
   "source": []
  }
 ],
 "metadata": {
  "kernelspec": {
   "display_name": "Python 3",
   "language": "python",
   "name": "python3"
  },
  "language_info": {
   "codemirror_mode": {
    "name": "ipython",
    "version": 3
   },
   "file_extension": ".py",
   "mimetype": "text/x-python",
   "name": "python",
   "nbconvert_exporter": "python",
   "pygments_lexer": "ipython3",
   "version": "3.10.2"
  }
 },
 "nbformat": 4,
 "nbformat_minor": 2
}
