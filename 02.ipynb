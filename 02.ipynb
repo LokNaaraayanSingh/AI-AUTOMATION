{
 "cells": [
  {
   "cell_type": "code",
   "execution_count": 2,
   "metadata": {},
   "outputs": [
    {
     "name": "stdout",
     "output_type": "stream",
     "text": [
      "Select your shopping categories (e.g., 1,3):\n",
      "1. electronics\n",
      "2. fashion\n",
      "3. books\n",
      "Selected preferences: ['electronics']\n",
      "\n",
      "Recommended products:\n",
      "- Smartphone\n",
      "- Laptop\n",
      "- Headphones\n",
      "Added $100.00. Current balance: $100.00\n",
      "Current M-Wallet Balance: $100.00\n"
     ]
    }
   ],
   "source": [
    "class ShoppingAssistant:\n",
    "    def __init__(self):\n",
    "        self.user_preferences = []\n",
    "        self.products = {\n",
    "            'electronics': ['Smartphone', 'Laptop', 'Headphones'],\n",
    "            'fashion': ['T-shirt', 'Jeans', 'Sneakers'],\n",
    "            'books': ['Novel', 'Science Fiction', 'Non-fiction']\n",
    "        }\n",
    "        self.wallet_balance = 0.0\n",
    "    \n",
    "    def get_user_preferences(self):\n",
    "        categories = list(self.products.keys())\n",
    "        print(\"Select your shopping categories (e.g., 1,3):\")\n",
    "        for i, category in enumerate(categories, 1):\n",
    "            print(f\"{i}. {category}\")\n",
    "        selected = input().split(',')\n",
    "        self.user_preferences = [categories[int(i) - 1] for i in selected if i.isdigit() and 1 <= int(i) <= len(categories)]\n",
    "        print(f\"Selected preferences: {self.user_preferences}\")\n",
    "    \n",
    "    def recommend_products(self):\n",
    "        print(\"\\nRecommended products:\")\n",
    "        recommendations = [product for pref in self.user_preferences for product in self.products[pref]]\n",
    "        print(\"\\n\".join(f\"- {product}\" for product in recommendations))\n",
    "    \n",
    "    def add_to_wallet(self, amount):\n",
    "        self.wallet_balance += amount\n",
    "        print(f\"Added ${amount:.2f}. Current balance: ${self.wallet_balance:.2f}\")\n",
    "    \n",
    "    def get_wallet_balance(self):\n",
    "        return self.wallet_balance\n",
    "\n",
    "# Example usage\n",
    "assistant = ShoppingAssistant()\n",
    "assistant.get_user_preferences()\n",
    "assistant.recommend_products()\n",
    "assistant.add_to_wallet(100)\n",
    "print(f\"Current M-Wallet Balance: ${assistant.get_wallet_balance():.2f}\")\n"
   ]
  },
  {
   "cell_type": "code",
   "execution_count": null,
   "metadata": {},
   "outputs": [],
   "source": []
  }
 ],
 "metadata": {
  "kernelspec": {
   "display_name": "Python 3",
   "language": "python",
   "name": "python3"
  },
  "language_info": {
   "codemirror_mode": {
    "name": "ipython",
    "version": 3
   },
   "file_extension": ".py",
   "mimetype": "text/x-python",
   "name": "python",
   "nbconvert_exporter": "python",
   "pygments_lexer": "ipython3",
   "version": "3.10.2"
  }
 },
 "nbformat": 4,
 "nbformat_minor": 2
}
